{
  "nbformat": 4,
  "nbformat_minor": 0,
  "metadata": {
    "colab": {
      "name": "oilstabilizationprocess.ipynb",
      "provenance": [],
      "collapsed_sections": [],
      "toc_visible": true
    },
    "kernelspec": {
      "name": "python3",
      "display_name": "Python 3"
    }
  },
  "cells": [
    {
      "cell_type": "code",
      "metadata": {
        "id": "JWvBFAIzhUkH"
      },
      "source": [
        "# Setting up the Colab page to use neqsim\n",
        "%%capture\n",
        "!pip install neqsim\n",
        "from neqsim.process import openprocess\n",
        "import urllib\n",
        "import time\n",
        "# Importing the TEG process from file\n",
        "!wget https://github.com/equinor/neqsimprocess/blob/master/lib/offshorePro.neqsim"
      ],
      "execution_count": 1,
      "outputs": []
    },
    {
      "cell_type": "code",
      "metadata": {
        "id": "1Sdq4QVChaQT"
      },
      "source": [
        "# importing the process from the stored file\n",
        "# See: https://github.com/equinor/neqsimprocess/blob/master/src/neqsimprocess/oilgasprocess/sepproces.java\n",
        "# See Figure 1 for process flow diagram\n",
        "GasOilProcess = openprocess('offshorePro.neqsim')"
      ],
      "execution_count": 2,
      "outputs": []
    },
    {
      "cell_type": "markdown",
      "metadata": {
        "id": "vgMilhbIhqGL"
      },
      "source": [
        "## figure oil process\n",
        "....."
      ]
    },
    {
      "cell_type": "code",
      "metadata": {
        "id": "ZcXDwRhhhuYL",
        "outputId": "78958549-017d-436e-c15c-d7a67e377c20",
        "colab": {
          "base_uri": "https://localhost:8080/",
          "height": 238
        }
      },
      "source": [
        "from neqsim.process import openprocess\n",
        "import time\n",
        "import pandas as pd\n",
        "from neqsim.thermo import createfluid,fluid_df,TPflash\n",
        "\n",
        "# Create alternativ well stream\n",
        "#wellStreamComposition = {'ComponentName':  [\"nitrogen\", \"CO2\", \"methane\", \"ethane\", \"propane\", \"i-butane\", \"n-butane\", \"i-pentane\", \"n-pentane\", \"n-hexane\", \"C7\", \"C8\", \"C9\", \"C10\", \"C11\", \"C12\", \"C13\", \"C14\", \"C15\", \"C16\", \"C17\", \"C18\", \"C19\", \"C20\", \"water\"], \n",
        "#        'MolarComposition[-]':  [0.53, 3.3, 72.98, 7.68, 4.1, 0.7, 1.42, 0.54, 0.67, 0.85, 1.33, 1.33, 0.78, 0.61, 0.42, 0.33, 0.42, 0.24, 0.3, 0.17, 0.21, 0.15, 0.15, 0.8, 10.0], \n",
        "#        'MolarMass[kg/mol]': [None,None, None,None,None,None,None,None,None,None,0.0913, 0.1041, 0.1188, 0.136, 0.150, 0.164, 0.179, 0.188, 0.204, 0.216, 0.236, 0.253, 0.27, 0.391, None],\n",
        "#        'RelativeDensity[-]': [None,None, None,None,None,None,None,None,None,None, 0.746, 0.768, 0.79, 0.787, 0.793, 0.804, 0.817, 0.83, 0.835, 0.843, 0.837, 0.84, 0.85, 0.877, None]\n",
        "#  } \n",
        "#\n",
        "#wellStreamCompositiondf = pd.DataFrame(wellStreamComposition) \n",
        "#wellStream = fluid_df(wellStreamCompositiondf)\n",
        "#GasOilProcess.getUnit(\"well stream\").setThermoSystem(wellStream)\n",
        "\n",
        "\n",
        "GasOilProcess.getUnit(\"well stream\").setFlowRate(12.23, 'MSm3/day')\n",
        "GasOilProcess.getUnit(\"well stream\").setPressure(120.0, \"bara\")\n",
        "GasOilProcess.getUnit(\"well stream\").setTemperature(65.0, \"C\")\n",
        "GasOilProcess.getUnit(\"inlet choke valve\").setOutletPressure(52.21)\n",
        "GasOilProcess.getUnit(\"1st stage separator\").setEntrainment(0.1, \"\", \"oil\", \"aqueous\")\n",
        "GasOilProcess.getUnit(\"oil HP to MP valve\").setOutletPressure(15.0)\n",
        "GasOilProcess.getUnit(\"oil cooler/heater to 2nd stage\").setOutTemperature(313.15)\n",
        "GasOilProcess.getUnit(\"oil MP to LP valve\").setOutletPressure(1.8)\n",
        "GasOilProcess.getUnit(\"Water HP to LP valve\").setOutletPressure(1.01325)\n",
        "GasOilProcess.getUnit(\"dew point scrubber cooler2\").setOutTemperature(303.15)\n",
        "GasOilProcess.getUnit(\"1st stage recompressor\").setIsentropicEfficiency(0.75)\n",
        "GasOilProcess.getUnit(\"2nd stage recompressor\").setIsentropicEfficiency(0.75)\n",
        "\n",
        "#Run the process calculations\n",
        "tic = time.perf_counter()\n",
        "GasOilProcess.run()\n",
        "toc = time.perf_counter()\n",
        "print(f\"Simulation run in {toc - tic:0.4f} seconds\")\n",
        "\n",
        "\n",
        "\n",
        "#Read results\n",
        "GasLiqidRatio = GasOilProcess.getUnit(\"rich gas\").getFluid().getFlowRate(\"Sm3/hr\")/GasOilProcess.getUnit(\"stable oil\").getFluid().getFlowRate(\"m3/hr\")\n",
        "compressorPower1 = GasOilProcess.getUnit(\"1st stage recompressor\").getPower()/1.0e3\n",
        "compressorPower2 = GasOilProcess.getUnit(\"2nd stage recompressor\").getPower()/1.0e3\n",
        "\n",
        "wellStreamFLowMSm3day = GasOilProcess.getUnit(\"well stream\").getFluid().getFlowRate(\"MSm3/day\")\n",
        "richGasFLowMSm3day = GasOilProcess.getUnit(\"rich gas\").getFluid().getFlowRate(\"MSm3/day\")\n",
        "gasInletSepFlowMSm3day = GasOilProcess.getUnit(\"1st stage separator\").getGasOutStream().getFluid().getFlowRate(\"MSm3/day\")\n",
        "stableOilFLowm3hr = GasOilProcess.getUnit(\"stable oil\").getFluid().getFlowRate(\"m3/hr\")\n",
        "waterToTreatmentRatem3hr = GasOilProcess.getUnit(\"water to treatment\").getFluid().getFlowRate(\"m3/hr\")\n",
        "resycleFLowDewPointScrubber = GasOilProcess.getUnit(\"dew point control scrubber\").getLiquidOutStream().getFluid().getFlowRate(\"kg/hr\")\n",
        "#GasOilProcess.getUnit(\"well stream\").getFluid().display()\n",
        "#GasOilProcess.getUnit(\"rich gas\").getFluid().display()\n",
        "#GasOilProcess.getUnit(\"water to treatment\").getFluid().display()\n",
        "#GasOilProcess.getUnit(\"stable oil\").getFluid().display()\n",
        "#GasOilProcess.getUnit(\"1st stage separator\").getThermoSystem().display()\n",
        "#GasOilProcess.getUnit(\"dew point control scrubber\").getLiquidOutStream().getFluid().display()\n",
        "\n",
        "#GasOilProcess.getUnit(\"rich gas\").phaseEnvelope();\n",
        "#GasOilProcess.getUnit(\"stable oil\").phaseEnvelope();"
      ],
      "execution_count": 3,
      "outputs": [
        {
          "output_type": "error",
          "ename": "AttributeError",
          "evalue": "ignored",
          "traceback": [
            "\u001b[0;31m---------------------------------------------------------------------------\u001b[0m",
            "\u001b[0;31mAttributeError\u001b[0m                            Traceback (most recent call last)",
            "\u001b[0;32m<ipython-input-3-bfa63e98cb02>\u001b[0m in \u001b[0;36m<module>\u001b[0;34m()\u001b[0m\n\u001b[1;32m     16\u001b[0m \u001b[0;34m\u001b[0m\u001b[0m\n\u001b[1;32m     17\u001b[0m \u001b[0;34m\u001b[0m\u001b[0m\n\u001b[0;32m---> 18\u001b[0;31m \u001b[0mGasOilProcess\u001b[0m\u001b[0;34m.\u001b[0m\u001b[0mgetUnit\u001b[0m\u001b[0;34m(\u001b[0m\u001b[0;34m\"well stream\"\u001b[0m\u001b[0;34m)\u001b[0m\u001b[0;34m.\u001b[0m\u001b[0msetFlowRate\u001b[0m\u001b[0;34m(\u001b[0m\u001b[0;36m12.23\u001b[0m\u001b[0;34m,\u001b[0m \u001b[0;34m'MSm3/day'\u001b[0m\u001b[0;34m)\u001b[0m\u001b[0;34m\u001b[0m\u001b[0;34m\u001b[0m\u001b[0m\n\u001b[0m\u001b[1;32m     19\u001b[0m \u001b[0mGasOilProcess\u001b[0m\u001b[0;34m.\u001b[0m\u001b[0mgetUnit\u001b[0m\u001b[0;34m(\u001b[0m\u001b[0;34m\"well stream\"\u001b[0m\u001b[0;34m)\u001b[0m\u001b[0;34m.\u001b[0m\u001b[0msetPressure\u001b[0m\u001b[0;34m(\u001b[0m\u001b[0;36m120.0\u001b[0m\u001b[0;34m,\u001b[0m \u001b[0;34m\"bara\"\u001b[0m\u001b[0;34m)\u001b[0m\u001b[0;34m\u001b[0m\u001b[0;34m\u001b[0m\u001b[0m\n\u001b[1;32m     20\u001b[0m \u001b[0mGasOilProcess\u001b[0m\u001b[0;34m.\u001b[0m\u001b[0mgetUnit\u001b[0m\u001b[0;34m(\u001b[0m\u001b[0;34m\"well stream\"\u001b[0m\u001b[0;34m)\u001b[0m\u001b[0;34m.\u001b[0m\u001b[0msetTemperature\u001b[0m\u001b[0;34m(\u001b[0m\u001b[0;36m65.0\u001b[0m\u001b[0;34m,\u001b[0m \u001b[0;34m\"C\"\u001b[0m\u001b[0;34m)\u001b[0m\u001b[0;34m\u001b[0m\u001b[0;34m\u001b[0m\u001b[0m\n",
            "\u001b[0;31mAttributeError\u001b[0m: 'NoneType' object has no attribute 'getUnit'"
          ]
        }
      ]
    }
  ]
}